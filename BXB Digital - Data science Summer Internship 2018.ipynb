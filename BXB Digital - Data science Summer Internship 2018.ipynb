{
 "cells": [
  {
   "cell_type": "code",
   "execution_count": 3,
   "metadata": {},
   "outputs": [
    {
     "name": "stderr",
     "output_type": "stream",
     "text": [
      "C:\\Users\\DELL LAPTOP\\Anaconda3\\lib\\site-packages\\statsmodels\\compat\\pandas.py:56: FutureWarning: The pandas.core.datetools module is deprecated and will be removed in a future version. Please use the pandas.tseries module instead.\n",
      "  from pandas.core import datetools\n"
     ]
    }
   ],
   "source": [
    "import pandas as pd\n",
    "import numpy as np\n",
    "import warnings\n",
    "import scipy\n",
    "from datetime import timedelta\n",
    "\n",
    "# For marchine Learning Approach\n",
    "from statsmodels.tsa.tsatools import lagmat\n",
    "from sklearn.linear_model import LinearRegression, RidgeCV\n",
    "from sklearn.ensemble import RandomForestRegressor\n",
    "from sklearn.metrics import r2_score\n",
    "\n",
    "# Visualisation\n",
    "import matplotlib.pyplot as plt\n",
    "import seaborn as sns"
   ]
  },
  {
   "cell_type": "code",
   "execution_count": 4,
   "metadata": {},
   "outputs": [
    {
     "data": {
      "text/html": [
       "<div>\n",
       "<style>\n",
       "    .dataframe thead tr:only-child th {\n",
       "        text-align: right;\n",
       "    }\n",
       "\n",
       "    .dataframe thead th {\n",
       "        text-align: left;\n",
       "    }\n",
       "\n",
       "    .dataframe tbody tr th {\n",
       "        vertical-align: top;\n",
       "    }\n",
       "</style>\n",
       "<table border=\"1\" class=\"dataframe\">\n",
       "  <thead>\n",
       "    <tr style=\"text-align: right;\">\n",
       "      <th></th>\n",
       "      <th>Month</th>\n",
       "      <th>TransfersInMonth</th>\n",
       "      <th>BusinessDaysInMonth</th>\n",
       "      <th>IssuesInMonth</th>\n",
       "    </tr>\n",
       "  </thead>\n",
       "  <tbody>\n",
       "    <tr>\n",
       "      <th>0</th>\n",
       "      <td>7/31/2007</td>\n",
       "      <td>867255</td>\n",
       "      <td>26.5</td>\n",
       "      <td>873516</td>\n",
       "    </tr>\n",
       "    <tr>\n",
       "      <th>1</th>\n",
       "      <td>8/31/2007</td>\n",
       "      <td>801252</td>\n",
       "      <td>22.0</td>\n",
       "      <td>872414</td>\n",
       "    </tr>\n",
       "    <tr>\n",
       "      <th>2</th>\n",
       "      <td>9/30/2007</td>\n",
       "      <td>811613</td>\n",
       "      <td>21.0</td>\n",
       "      <td>890435</td>\n",
       "    </tr>\n",
       "    <tr>\n",
       "      <th>3</th>\n",
       "      <td>10/31/2007</td>\n",
       "      <td>837920</td>\n",
       "      <td>27.5</td>\n",
       "      <td>851428</td>\n",
       "    </tr>\n",
       "    <tr>\n",
       "      <th>4</th>\n",
       "      <td>11/30/2007</td>\n",
       "      <td>801401</td>\n",
       "      <td>20.5</td>\n",
       "      <td>850625</td>\n",
       "    </tr>\n",
       "  </tbody>\n",
       "</table>\n",
       "</div>"
      ],
      "text/plain": [
       "        Month  TransfersInMonth  BusinessDaysInMonth  IssuesInMonth\n",
       "0   7/31/2007            867255                 26.5         873516\n",
       "1   8/31/2007            801252                 22.0         872414\n",
       "2   9/30/2007            811613                 21.0         890435\n",
       "3  10/31/2007            837920                 27.5         851428\n",
       "4  11/30/2007            801401                 20.5         850625"
      ]
     },
     "execution_count": 4,
     "metadata": {},
     "output_type": "execute_result"
    }
   ],
   "source": [
    "#opening data files #1.train_data, #2.\n",
    "train_data=pd.read_csv(\"Train_data.csv\")\n",
    "test_data=pd.read_csv(\"Test_data.csv\")\n",
    "submission_data=pd.read_csv(\"Submission.csv\")\n",
    "train_data.head()"
   ]
  },
  {
   "cell_type": "code",
   "execution_count": 5,
   "metadata": {
    "collapsed": true
   },
   "outputs": [],
   "source": [
    "#deviding data into two parts #1.train_data_transfer and #2.train_data_issue\n",
    "train_data_transfer=pd.DataFrame(train_data,columns=[\"Month\",\"TransfersInMonth\",\"BusinessDaysInMonth\"])\n",
    "train_data_issue=pd.DataFrame(train_data,columns=[\"Month\",\"IssuesInMonth\"])"
   ]
  },
  {
   "cell_type": "code",
   "execution_count": 6,
   "metadata": {
    "collapsed": true
   },
   "outputs": [],
   "source": [
    "#merging train data and test data\n",
    "train_data_transfer = [train_data_transfer,test_data]\n",
    "train_data_transfer = pd.concat(train_data_transfer)\n",
    "train_data_issue=[train_data_issue,submission_data]\n",
    "train_data_issue = pd.concat(train_data_issue)"
   ]
  },
  {
   "cell_type": "code",
   "execution_count": 7,
   "metadata": {},
   "outputs": [
    {
     "data": {
      "text/html": [
       "<div>\n",
       "<style>\n",
       "    .dataframe thead tr:only-child th {\n",
       "        text-align: right;\n",
       "    }\n",
       "\n",
       "    .dataframe thead th {\n",
       "        text-align: left;\n",
       "    }\n",
       "\n",
       "    .dataframe tbody tr th {\n",
       "        vertical-align: top;\n",
       "    }\n",
       "</style>\n",
       "<table border=\"1\" class=\"dataframe\">\n",
       "  <thead>\n",
       "    <tr style=\"text-align: right;\">\n",
       "      <th></th>\n",
       "      <th>Month</th>\n",
       "      <th>TransfersInMonth</th>\n",
       "      <th>BusinessDaysInMonth</th>\n",
       "    </tr>\n",
       "  </thead>\n",
       "  <tbody>\n",
       "    <tr>\n",
       "      <th>0</th>\n",
       "      <td>7/31/2007</td>\n",
       "      <td>867255</td>\n",
       "      <td>26.5</td>\n",
       "    </tr>\n",
       "    <tr>\n",
       "      <th>1</th>\n",
       "      <td>8/31/2007</td>\n",
       "      <td>801252</td>\n",
       "      <td>22.0</td>\n",
       "    </tr>\n",
       "    <tr>\n",
       "      <th>2</th>\n",
       "      <td>9/30/2007</td>\n",
       "      <td>811613</td>\n",
       "      <td>21.0</td>\n",
       "    </tr>\n",
       "    <tr>\n",
       "      <th>3</th>\n",
       "      <td>10/31/2007</td>\n",
       "      <td>837920</td>\n",
       "      <td>27.5</td>\n",
       "    </tr>\n",
       "    <tr>\n",
       "      <th>4</th>\n",
       "      <td>11/30/2007</td>\n",
       "      <td>801401</td>\n",
       "      <td>20.5</td>\n",
       "    </tr>\n",
       "  </tbody>\n",
       "</table>\n",
       "</div>"
      ],
      "text/plain": [
       "        Month  TransfersInMonth  BusinessDaysInMonth\n",
       "0   7/31/2007            867255                 26.5\n",
       "1   8/31/2007            801252                 22.0\n",
       "2   9/30/2007            811613                 21.0\n",
       "3  10/31/2007            837920                 27.5\n",
       "4  11/30/2007            801401                 20.5"
      ]
     },
     "execution_count": 7,
     "metadata": {},
     "output_type": "execute_result"
    }
   ],
   "source": [
    "train_data_transfer.head()"
   ]
  },
  {
   "cell_type": "code",
   "execution_count": 8,
   "metadata": {
    "collapsed": true
   },
   "outputs": [],
   "source": [
    "#Reseting Index\n",
    "train_data_transfer.reset_index(drop=True,inplace=True)\n",
    "train_data_issue.reset_index(drop=True,inplace=True)"
   ]
  },
  {
   "cell_type": "code",
   "execution_count": 9,
   "metadata": {
    "collapsed": true
   },
   "outputs": [],
   "source": [
    "# from train and test data i have taken TransfersInMonth and IssuesInMonth \n",
    "#for feature engineering and feature creation\n",
    "train_test_1=pd.DataFrame(train_data_transfer,columns=[\"TransfersInMonth\"])\n",
    "train_test_2=pd.DataFrame(train_data_issue,columns=[\"IssuesInMonth\"])\n",
    "train_test = [train_test_1,train_test_2]\n",
    "train_test = pd.concat(train_test,axis=1)"
   ]
  },
  {
   "cell_type": "markdown",
   "metadata": {},
   "source": [
    "<h3><center>Framed a time series as a supervised learning dataset</h3>"
   ]
  },
  {
   "cell_type": "code",
   "execution_count": 84,
   "metadata": {},
   "outputs": [
    {
     "data": {
      "text/html": [
       "<div>\n",
       "<style>\n",
       "    .dataframe thead tr:only-child th {\n",
       "        text-align: right;\n",
       "    }\n",
       "\n",
       "    .dataframe thead th {\n",
       "        text-align: left;\n",
       "    }\n",
       "\n",
       "    .dataframe tbody tr th {\n",
       "        vertical-align: top;\n",
       "    }\n",
       "</style>\n",
       "<table border=\"1\" class=\"dataframe\">\n",
       "  <thead>\n",
       "    <tr style=\"text-align: right;\">\n",
       "      <th></th>\n",
       "      <th>var1(t-6)</th>\n",
       "      <th>var2(t-6)</th>\n",
       "      <th>var1(t-5)</th>\n",
       "      <th>var2(t-5)</th>\n",
       "      <th>var1(t-4)</th>\n",
       "      <th>var2(t-4)</th>\n",
       "      <th>var1(t-3)</th>\n",
       "      <th>var2(t-3)</th>\n",
       "      <th>var1(t-2)</th>\n",
       "      <th>var2(t-2)</th>\n",
       "      <th>var1(t-1)</th>\n",
       "      <th>var2(t-1)</th>\n",
       "      <th>var1(t)</th>\n",
       "      <th>var2(t)</th>\n",
       "    </tr>\n",
       "  </thead>\n",
       "  <tbody>\n",
       "    <tr>\n",
       "      <th>6</th>\n",
       "      <td>867255.0</td>\n",
       "      <td>873516.0</td>\n",
       "      <td>801252.0</td>\n",
       "      <td>872414.0</td>\n",
       "      <td>811613.0</td>\n",
       "      <td>890435.0</td>\n",
       "      <td>837920.0</td>\n",
       "      <td>851428.0</td>\n",
       "      <td>801401.0</td>\n",
       "      <td>850625.0</td>\n",
       "      <td>812752.0</td>\n",
       "      <td>784745.0</td>\n",
       "      <td>783118</td>\n",
       "      <td>834803</td>\n",
       "    </tr>\n",
       "    <tr>\n",
       "      <th>7</th>\n",
       "      <td>801252.0</td>\n",
       "      <td>872414.0</td>\n",
       "      <td>811613.0</td>\n",
       "      <td>890435.0</td>\n",
       "      <td>837920.0</td>\n",
       "      <td>851428.0</td>\n",
       "      <td>801401.0</td>\n",
       "      <td>850625.0</td>\n",
       "      <td>812752.0</td>\n",
       "      <td>784745.0</td>\n",
       "      <td>783118.0</td>\n",
       "      <td>834803.0</td>\n",
       "      <td>817332</td>\n",
       "      <td>849328</td>\n",
       "    </tr>\n",
       "    <tr>\n",
       "      <th>8</th>\n",
       "      <td>811613.0</td>\n",
       "      <td>890435.0</td>\n",
       "      <td>837920.0</td>\n",
       "      <td>851428.0</td>\n",
       "      <td>801401.0</td>\n",
       "      <td>850625.0</td>\n",
       "      <td>812752.0</td>\n",
       "      <td>784745.0</td>\n",
       "      <td>783118.0</td>\n",
       "      <td>834803.0</td>\n",
       "      <td>817332.0</td>\n",
       "      <td>849328.0</td>\n",
       "      <td>811677</td>\n",
       "      <td>826523</td>\n",
       "    </tr>\n",
       "    <tr>\n",
       "      <th>9</th>\n",
       "      <td>837920.0</td>\n",
       "      <td>851428.0</td>\n",
       "      <td>801401.0</td>\n",
       "      <td>850625.0</td>\n",
       "      <td>812752.0</td>\n",
       "      <td>784745.0</td>\n",
       "      <td>783118.0</td>\n",
       "      <td>834803.0</td>\n",
       "      <td>817332.0</td>\n",
       "      <td>849328.0</td>\n",
       "      <td>811677.0</td>\n",
       "      <td>826523.0</td>\n",
       "      <td>797000</td>\n",
       "      <td>822965</td>\n",
       "    </tr>\n",
       "    <tr>\n",
       "      <th>10</th>\n",
       "      <td>801401.0</td>\n",
       "      <td>850625.0</td>\n",
       "      <td>812752.0</td>\n",
       "      <td>784745.0</td>\n",
       "      <td>783118.0</td>\n",
       "      <td>834803.0</td>\n",
       "      <td>817332.0</td>\n",
       "      <td>849328.0</td>\n",
       "      <td>811677.0</td>\n",
       "      <td>826523.0</td>\n",
       "      <td>797000.0</td>\n",
       "      <td>822965.0</td>\n",
       "      <td>808143</td>\n",
       "      <td>884723</td>\n",
       "    </tr>\n",
       "  </tbody>\n",
       "</table>\n",
       "</div>"
      ],
      "text/plain": [
       "    var1(t-6)  var2(t-6)  var1(t-5)  var2(t-5)  var1(t-4)  var2(t-4)  \\\n",
       "6    867255.0   873516.0   801252.0   872414.0   811613.0   890435.0   \n",
       "7    801252.0   872414.0   811613.0   890435.0   837920.0   851428.0   \n",
       "8    811613.0   890435.0   837920.0   851428.0   801401.0   850625.0   \n",
       "9    837920.0   851428.0   801401.0   850625.0   812752.0   784745.0   \n",
       "10   801401.0   850625.0   812752.0   784745.0   783118.0   834803.0   \n",
       "\n",
       "    var1(t-3)  var2(t-3)  var1(t-2)  var2(t-2)  var1(t-1)  var2(t-1)  var1(t)  \\\n",
       "6    837920.0   851428.0   801401.0   850625.0   812752.0   784745.0   783118   \n",
       "7    801401.0   850625.0   812752.0   784745.0   783118.0   834803.0   817332   \n",
       "8    812752.0   784745.0   783118.0   834803.0   817332.0   849328.0   811677   \n",
       "9    783118.0   834803.0   817332.0   849328.0   811677.0   826523.0   797000   \n",
       "10   817332.0   849328.0   811677.0   826523.0   797000.0   822965.0   808143   \n",
       "\n",
       "    var2(t)  \n",
       "6    834803  \n",
       "7    849328  \n",
       "8    826523  \n",
       "9    822965  \n",
       "10   884723  "
      ]
     },
     "execution_count": 84,
     "metadata": {},
     "output_type": "execute_result"
    }
   ],
   "source": [
    "\n",
    "\"\"\"\"\n",
    "Framing a time series as a supervised learning dataset.\n",
    "Arguments:\n",
    "data: Sequence of observations as a list or NumPy array.\n",
    "n_in: Number of lag observations as input (X).\n",
    "n_out: Number of observations as output (y).\n",
    "dropnan: Boolean whether or not to drop rows with NaN values.\n",
    "Returns:\n",
    "Pandas DataFrame of series framed for supervised learning.\n",
    "\"\"\"\n",
    "#used TransfersInMonth and IssuesInMonth for framing supervised learning data set\n",
    "from pandas import DataFrame\n",
    "from pandas import concat\n",
    "def series_to_supervised(data, n_in=1, n_out=1, dropnan=True):\n",
    "    n_vars = 1 if type(data) is list else data.shape[1]\n",
    "    df = DataFrame(data)\n",
    "    cols, names = list(), list()\n",
    "    # input sequence (t-n, ... t-1)\n",
    "    for i in range(n_in, 0, -1):\n",
    "        cols.append(df.shift(i))\n",
    "        names += [('var%d(t-%d)' % (j+1, i)) for j in range(n_vars)]\n",
    "        # forecast sequence (t, t+1, ... t+n)\n",
    "    for i in range(0, n_out):\n",
    "        cols.append(df.shift(-i))\n",
    "        if i == 0:\n",
    "            names += [('var%d(t)' % (j+1)) for j in range(n_vars)]\n",
    "        else:\n",
    "            names += [('var%d(t+%d)' % (j+1, i)) for j in range(n_vars)]\n",
    "            # put it all together\n",
    "    agg = concat(cols, axis=1)\n",
    "    agg.columns = names\n",
    "    # drop rows with NaN values\n",
    "    if dropnan:\n",
    "        agg.dropna(inplace=True)\n",
    "    return agg\n",
    "raw = DataFrame()\n",
    "raw['ob1'] =train_test[\"TransfersInMonth\"]\n",
    "raw['ob2'] = train_test[\"IssuesInMonth\"]\n",
    "values = raw.values\n",
    "data = series_to_supervised(values,6)\n",
    "data.head()"
   ]
  },
  {
   "cell_type": "code",
   "execution_count": 103,
   "metadata": {},
   "outputs": [
    {
     "data": {
      "text/plain": [
       "(120, 3)"
      ]
     },
     "execution_count": 103,
     "metadata": {},
     "output_type": "execute_result"
    }
   ],
   "source": [
    "#calling data after 6th row to form training set\n",
    "modified_transfer=train_data_transfer[6:]\n",
    "modified_transfer.shape"
   ]
  },
  {
   "cell_type": "code",
   "execution_count": 15,
   "metadata": {
    "collapsed": true
   },
   "outputs": [],
   "source": [
    "#preparing the train_test data [Mixed data (Train+test)]\n",
    "train_test_mixed_1=pd.DataFrame(modified_transfer,columns=[\"Month\",\"BusinessDaysInMonth\"])\n",
    "train_test_mixed=pd.DataFrame(modified_transfer,columns=[\"BusinessDaysInMonth\"])\n",
    "train_test_mixed = [train_test_mixed,data]\n",
    "train_test_mixed = pd.concat(train_test_mixed,axis=1)"
   ]
  },
  {
   "cell_type": "code",
   "execution_count": 16,
   "metadata": {
    "collapsed": true
   },
   "outputs": [],
   "source": [
    "#Final Train data\n",
    "train_second=train_test_mixed[0:114]\n",
    "#Final Test data\n",
    "test_second=train_test_mixed[114:120]"
   ]
  },
  {
   "cell_type": "code",
   "execution_count": 18,
   "metadata": {
    "collapsed": true
   },
   "outputs": [],
   "source": [
    "#modeling using Machine learning\n",
    "#training_data\n",
    "x_train_second=pd.DataFrame(train_second,columns=[\"BusinessDaysInMonth\",\"var1(t-6)\",\"var2(t-6)\",\"var1(t-5)\",\"var2(t-5)\",\"var1(t-4)\",\"var2(t-4)\",\"var1(t-3)\",\"var2(t-3)\",\"var1(t-2)\",\"var2(t-2)\",\"var1(t-1)\",\"var2(t-1)\",\"var1(t)\"])\n",
    "y_train_second=pd.DataFrame(train_second,columns=[\"var2(t)\"])#target variable"
   ]
  },
  {
   "cell_type": "markdown",
   "metadata": {},
   "source": [
    "x_train_second=Training data containg all features\n",
    " and y_train_second=Training data containing target value"
   ]
  },
  {
   "cell_type": "markdown",
   "metadata": {},
   "source": [
    "Features considered for machine learning models:\n",
    "   1. BusinessDaysInMonth\n",
    "   2. Features related to varaiable TransfersInMonth are:\n",
    "          var1(t-6),var1(t-5),var1(t-4),var1(t-3),var1(t-2),var1(t-1) and var1(t)\n",
    "   3. Features related to varaiable IssuesInMonth are:\n",
    "          var2(t-6),var2(t-5),var2(t-4),var2(t-3),var2(t-2),var2(t-1)\n",
    "Target Variable:\n",
    "   var2(t):value of IssuesInMonth at time t"
   ]
  },
  {
   "cell_type": "code",
   "execution_count": 19,
   "metadata": {},
   "outputs": [
    {
     "data": {
      "text/html": [
       "<div>\n",
       "<style>\n",
       "    .dataframe thead tr:only-child th {\n",
       "        text-align: right;\n",
       "    }\n",
       "\n",
       "    .dataframe thead th {\n",
       "        text-align: left;\n",
       "    }\n",
       "\n",
       "    .dataframe tbody tr th {\n",
       "        vertical-align: top;\n",
       "    }\n",
       "</style>\n",
       "<table border=\"1\" class=\"dataframe\">\n",
       "  <thead>\n",
       "    <tr style=\"text-align: right;\">\n",
       "      <th></th>\n",
       "      <th>BusinessDaysInMonth</th>\n",
       "      <th>var1(t-6)</th>\n",
       "      <th>var2(t-6)</th>\n",
       "      <th>var1(t-5)</th>\n",
       "      <th>var2(t-5)</th>\n",
       "      <th>var1(t-4)</th>\n",
       "      <th>var2(t-4)</th>\n",
       "      <th>var1(t-3)</th>\n",
       "      <th>var2(t-3)</th>\n",
       "      <th>var1(t-2)</th>\n",
       "      <th>var2(t-2)</th>\n",
       "      <th>var1(t-1)</th>\n",
       "      <th>var2(t-1)</th>\n",
       "      <th>var1(t)</th>\n",
       "    </tr>\n",
       "  </thead>\n",
       "  <tbody>\n",
       "    <tr>\n",
       "      <th>6</th>\n",
       "      <td>25.5</td>\n",
       "      <td>867255.0</td>\n",
       "      <td>873516.0</td>\n",
       "      <td>801252.0</td>\n",
       "      <td>872414.0</td>\n",
       "      <td>811613.0</td>\n",
       "      <td>890435.0</td>\n",
       "      <td>837920.0</td>\n",
       "      <td>851428.0</td>\n",
       "      <td>801401.0</td>\n",
       "      <td>850625.0</td>\n",
       "      <td>812752.0</td>\n",
       "      <td>784745.0</td>\n",
       "      <td>783118</td>\n",
       "    </tr>\n",
       "    <tr>\n",
       "      <th>7</th>\n",
       "      <td>21.5</td>\n",
       "      <td>801252.0</td>\n",
       "      <td>872414.0</td>\n",
       "      <td>811613.0</td>\n",
       "      <td>890435.0</td>\n",
       "      <td>837920.0</td>\n",
       "      <td>851428.0</td>\n",
       "      <td>801401.0</td>\n",
       "      <td>850625.0</td>\n",
       "      <td>812752.0</td>\n",
       "      <td>784745.0</td>\n",
       "      <td>783118.0</td>\n",
       "      <td>834803.0</td>\n",
       "      <td>817332</td>\n",
       "    </tr>\n",
       "    <tr>\n",
       "      <th>8</th>\n",
       "      <td>22.0</td>\n",
       "      <td>811613.0</td>\n",
       "      <td>890435.0</td>\n",
       "      <td>837920.0</td>\n",
       "      <td>851428.0</td>\n",
       "      <td>801401.0</td>\n",
       "      <td>850625.0</td>\n",
       "      <td>812752.0</td>\n",
       "      <td>784745.0</td>\n",
       "      <td>783118.0</td>\n",
       "      <td>834803.0</td>\n",
       "      <td>817332.0</td>\n",
       "      <td>849328.0</td>\n",
       "      <td>811677</td>\n",
       "    </tr>\n",
       "    <tr>\n",
       "      <th>9</th>\n",
       "      <td>27.5</td>\n",
       "      <td>837920.0</td>\n",
       "      <td>851428.0</td>\n",
       "      <td>801401.0</td>\n",
       "      <td>850625.0</td>\n",
       "      <td>812752.0</td>\n",
       "      <td>784745.0</td>\n",
       "      <td>783118.0</td>\n",
       "      <td>834803.0</td>\n",
       "      <td>817332.0</td>\n",
       "      <td>849328.0</td>\n",
       "      <td>811677.0</td>\n",
       "      <td>826523.0</td>\n",
       "      <td>797000</td>\n",
       "    </tr>\n",
       "    <tr>\n",
       "      <th>10</th>\n",
       "      <td>21.0</td>\n",
       "      <td>801401.0</td>\n",
       "      <td>850625.0</td>\n",
       "      <td>812752.0</td>\n",
       "      <td>784745.0</td>\n",
       "      <td>783118.0</td>\n",
       "      <td>834803.0</td>\n",
       "      <td>817332.0</td>\n",
       "      <td>849328.0</td>\n",
       "      <td>811677.0</td>\n",
       "      <td>826523.0</td>\n",
       "      <td>797000.0</td>\n",
       "      <td>822965.0</td>\n",
       "      <td>808143</td>\n",
       "    </tr>\n",
       "  </tbody>\n",
       "</table>\n",
       "</div>"
      ],
      "text/plain": [
       "    BusinessDaysInMonth  var1(t-6)  var2(t-6)  var1(t-5)  var2(t-5)  \\\n",
       "6                  25.5   867255.0   873516.0   801252.0   872414.0   \n",
       "7                  21.5   801252.0   872414.0   811613.0   890435.0   \n",
       "8                  22.0   811613.0   890435.0   837920.0   851428.0   \n",
       "9                  27.5   837920.0   851428.0   801401.0   850625.0   \n",
       "10                 21.0   801401.0   850625.0   812752.0   784745.0   \n",
       "\n",
       "    var1(t-4)  var2(t-4)  var1(t-3)  var2(t-3)  var1(t-2)  var2(t-2)  \\\n",
       "6    811613.0   890435.0   837920.0   851428.0   801401.0   850625.0   \n",
       "7    837920.0   851428.0   801401.0   850625.0   812752.0   784745.0   \n",
       "8    801401.0   850625.0   812752.0   784745.0   783118.0   834803.0   \n",
       "9    812752.0   784745.0   783118.0   834803.0   817332.0   849328.0   \n",
       "10   783118.0   834803.0   817332.0   849328.0   811677.0   826523.0   \n",
       "\n",
       "    var1(t-1)  var2(t-1)  var1(t)  \n",
       "6    812752.0   784745.0   783118  \n",
       "7    783118.0   834803.0   817332  \n",
       "8    817332.0   849328.0   811677  \n",
       "9    811677.0   826523.0   797000  \n",
       "10   797000.0   822965.0   808143  "
      ]
     },
     "execution_count": 19,
     "metadata": {},
     "output_type": "execute_result"
    }
   ],
   "source": [
    "x_train_second.head()"
   ]
  },
  {
   "cell_type": "markdown",
   "metadata": {},
   "source": [
    "<h3><center>ML Approach</h3>"
   ]
  },
  {
   "cell_type": "markdown",
   "metadata": {},
   "source": [
    "I have used a AdaBoostRegressor to train the model but also can try with other models to find the best model. I tried with a linear model as like Ridge but ADA model is better. It is possible to do a Neural Network approach too."
   ]
  },
  {
   "cell_type": "code",
   "execution_count": 62,
   "metadata": {},
   "outputs": [
    {
     "name": "stderr",
     "output_type": "stream",
     "text": [
      "C:\\Users\\DELL LAPTOP\\Anaconda3\\lib\\site-packages\\sklearn\\utils\\validation.py:578: DataConversionWarning: A column-vector y was passed when a 1d array was expected. Please change the shape of y to (n_samples, ), for example using ravel().\n",
      "  y = column_or_1d(y, warn=True)\n"
     ]
    },
    {
     "data": {
      "text/plain": [
       "RandomizedSearchCV(cv=10, error_score='raise',\n",
       "          estimator=AdaBoostRegressor(base_estimator=None, learning_rate=1.0, loss='linear',\n",
       "         n_estimators=50, random_state=None),\n",
       "          fit_params=None, iid=True, n_iter=10, n_jobs=-1,\n",
       "          param_distributions={'n_estimators': [50, 100], 'learning_rate': [0.01, 0.03, 0.04, 0.05, 0.1, 0.3, 1], 'loss': ['linear', 'square', 'exponential'], 'random_state': [10, 20, 30, 40, 50, 60]},\n",
       "          pre_dispatch='2*n_jobs', random_state=None, refit=True,\n",
       "          return_train_score='warn', scoring=None, verbose=0)"
      ]
     },
     "execution_count": 62,
     "metadata": {},
     "output_type": "execute_result"
    }
   ],
   "source": [
    "#modeling\n",
    "# paramter tuning and modeling\n",
    "from sklearn.ensemble import ExtraTreesRegressor,GradientBoostingRegressor, BaggingRegressor, AdaBoostRegressor\n",
    "from sklearn.metrics import mean_absolute_error, r2_score\n",
    "from sklearn.model_selection import RandomizedSearchCV\n",
    "#parameter tuning\n",
    "param_dist = {\n",
    " 'n_estimators': [50, 100],\n",
    " 'learning_rate' : [0.01,0.03,0.04,0.05,0.1,0.3,1],\n",
    " 'loss' : ['linear', 'square', 'exponential'],\n",
    " 'random_state': [10,20,30,40,50,60]\n",
    " }\n",
    "\n",
    "pre_gs_inst = RandomizedSearchCV(AdaBoostRegressor(),\n",
    " param_distributions = param_dist,\n",
    " cv=10,\n",
    " n_iter = 10,\n",
    " n_jobs=-1)\n",
    "\n",
    "pre_gs_inst.fit(x_train_second, y_train_second)"
   ]
  },
  {
   "cell_type": "code",
   "execution_count": 86,
   "metadata": {},
   "outputs": [
    {
     "data": {
      "text/plain": [
       "{'learning_rate': 1, 'loss': 'square', 'n_estimators': 100, 'random_state': 20}"
      ]
     },
     "execution_count": 86,
     "metadata": {},
     "output_type": "execute_result"
    }
   ],
   "source": [
    "#best parameters after tuning\n",
    "pre_gs_inst.best_params_"
   ]
  },
  {
   "cell_type": "code",
   "execution_count": 87,
   "metadata": {},
   "outputs": [
    {
     "name": "stderr",
     "output_type": "stream",
     "text": [
      "C:\\Users\\DELL LAPTOP\\Anaconda3\\lib\\site-packages\\sklearn\\utils\\validation.py:578: DataConversionWarning: A column-vector y was passed when a 1d array was expected. Please change the shape of y to (n_samples, ), for example using ravel().\n",
      "  y = column_or_1d(y, warn=True)\n"
     ]
    },
    {
     "name": "stdout",
     "output_type": "stream",
     "text": [
      "mae with 116 the data to train: 15855.5951604\n"
     ]
    }
   ],
   "source": [
    "#training the model using best parameters\n",
    "model=  AdaBoostRegressor(n_estimators =100, random_state = 20, learning_rate=1,loss=\"square\")\n",
    "model.fit(x_train_second, y_train_second)\n",
    "prediction_1 = model.predict(x_train_second)\n",
    "prediction_1=pd.DataFrame(prediction_1)\n",
    "#Mean absolute error for train prediction\n",
    "mae = mean_absolute_error(y_train_second, prediction_1)\n",
    "print (\"mae with 116 the data to train:\", mae)"
   ]
  },
  {
   "cell_type": "code",
   "execution_count": 115,
   "metadata": {},
   "outputs": [
    {
     "data": {
      "image/png": "[encoded data removed]",
      "text/plain": [
       "<matplotlib.figure.Figure at 0xf877efb128>"
      ]
     },
     "metadata": {},
     "output_type": "display_data"
    }
   ],
   "source": [
    "#plotting actual vs predicted in training data\n",
    "from matplotlib import pyplot\n",
    "pyplot.plot(y_train_second)\n",
    "pyplot.plot(prediction_1, color='red')\n",
    "pyplot.show()"
   ]
  },
  {
   "cell_type": "code",
   "execution_count": 134,
   "metadata": {},
   "outputs": [
    {
     "data": {
      "image/png": "[encoded data removed]",
      "text/plain": [
       "<matplotlib.figure.Figure at 0xf879b9f630>"
      ]
     },
     "metadata": {},
     "output_type": "display_data"
    }
   ],
   "source": [
    "#visualisation\n",
    "plt.style.use('ggplot')\n",
    "plt.figure(figsize=(50, 12))\n",
    "prediction_train=np.array(prediction_1)\n",
    "#predicted:red\n",
    "line_up, = plt.plot(prediction_train,label='Prediction',color='red')\n",
    "#actual:blue\n",
    "line_down, = plt.plot(np.array(y_train_second),label='Reality',color='blue')\n",
    "plt.ylabel('Series')\n",
    "plt.legend(handles=[line_up, line_down])\n",
    "plt.title('predictions -Predictions vs Reality')\n",
    "plt.show()"
   ]
  },
  {
   "cell_type": "code",
   "execution_count": 65,
   "metadata": {
    "collapsed": true
   },
   "outputs": [],
   "source": [
    "#calculating MAPE: mean absolute error function\n",
    "def mean_absolute_percentage_error(y_true, y_pred): \n",
    "    y_true, y_pred = np.array(y_true), np.array(y_pred)\n",
    "    return np.mean(np.abs((y_true - y_pred) / y_true))*100"
   ]
  },
  {
   "cell_type": "code",
   "execution_count": 66,
   "metadata": {},
   "outputs": [
    {
     "data": {
      "text/plain": [
       "1.7497135674796767"
      ]
     },
     "execution_count": 66,
     "metadata": {},
     "output_type": "execute_result"
    }
   ],
   "source": [
    "#Mean absolute eror for train prediction\n",
    "mean_absolute_percentage_error(y_train_second,prediction_1)"
   ]
  },
  {
   "cell_type": "markdown",
   "metadata": {},
   "source": [
    "train MAPE:1.7497135674796767"
   ]
  },
  {
   "cell_type": "markdown",
   "metadata": {},
   "source": [
    "<h5><center>TEST_PREDICTION</h5>"
   ]
  },
  {
   "cell_type": "code",
   "execution_count": 67,
   "metadata": {},
   "outputs": [
    {
     "data": {
      "text/html": [
       "<div>\n",
       "<style>\n",
       "    .dataframe thead tr:only-child th {\n",
       "        text-align: right;\n",
       "    }\n",
       "\n",
       "    .dataframe thead th {\n",
       "        text-align: left;\n",
       "    }\n",
       "\n",
       "    .dataframe tbody tr th {\n",
       "        vertical-align: top;\n",
       "    }\n",
       "</style>\n",
       "<table border=\"1\" class=\"dataframe\">\n",
       "  <thead>\n",
       "    <tr style=\"text-align: right;\">\n",
       "      <th></th>\n",
       "      <th>BusinessDaysInMonth</th>\n",
       "      <th>var1(t-6)</th>\n",
       "      <th>var2(t-6)</th>\n",
       "      <th>var1(t-5)</th>\n",
       "      <th>var2(t-5)</th>\n",
       "      <th>var1(t-4)</th>\n",
       "      <th>var2(t-4)</th>\n",
       "      <th>var1(t-3)</th>\n",
       "      <th>var2(t-3)</th>\n",
       "      <th>var1(t-2)</th>\n",
       "      <th>var2(t-2)</th>\n",
       "      <th>var1(t-1)</th>\n",
       "      <th>var2(t-1)</th>\n",
       "      <th>var1(t)</th>\n",
       "    </tr>\n",
       "  </thead>\n",
       "  <tbody>\n",
       "    <tr>\n",
       "      <th>120</th>\n",
       "      <td>27.0</td>\n",
       "      <td>996091.0</td>\n",
       "      <td>1021160.0</td>\n",
       "      <td>928621.0</td>\n",
       "      <td>1005903.0</td>\n",
       "      <td>927348.0</td>\n",
       "      <td>1025539.0</td>\n",
       "      <td>988990.0</td>\n",
       "      <td>1050488.0</td>\n",
       "      <td>978562.0</td>\n",
       "      <td>1132481.0</td>\n",
       "      <td>1047903.0</td>\n",
       "      <td>1143552.0</td>\n",
       "      <td>1056019</td>\n",
       "    </tr>\n",
       "    <tr>\n",
       "      <th>121</th>\n",
       "      <td>22.0</td>\n",
       "      <td>928621.0</td>\n",
       "      <td>1005903.0</td>\n",
       "      <td>927348.0</td>\n",
       "      <td>1025539.0</td>\n",
       "      <td>988990.0</td>\n",
       "      <td>1050488.0</td>\n",
       "      <td>978562.0</td>\n",
       "      <td>1132481.0</td>\n",
       "      <td>1047903.0</td>\n",
       "      <td>1143552.0</td>\n",
       "      <td>1056019.0</td>\n",
       "      <td>0.0</td>\n",
       "      <td>1021590</td>\n",
       "    </tr>\n",
       "    <tr>\n",
       "      <th>122</th>\n",
       "      <td>21.0</td>\n",
       "      <td>927348.0</td>\n",
       "      <td>1025539.0</td>\n",
       "      <td>988990.0</td>\n",
       "      <td>1050488.0</td>\n",
       "      <td>978562.0</td>\n",
       "      <td>1132481.0</td>\n",
       "      <td>1047903.0</td>\n",
       "      <td>1143552.0</td>\n",
       "      <td>1056019.0</td>\n",
       "      <td>0.0</td>\n",
       "      <td>1021590.0</td>\n",
       "      <td>0.0</td>\n",
       "      <td>1010038</td>\n",
       "    </tr>\n",
       "    <tr>\n",
       "      <th>123</th>\n",
       "      <td>27.5</td>\n",
       "      <td>988990.0</td>\n",
       "      <td>1050488.0</td>\n",
       "      <td>978562.0</td>\n",
       "      <td>1132481.0</td>\n",
       "      <td>1047903.0</td>\n",
       "      <td>1143552.0</td>\n",
       "      <td>1056019.0</td>\n",
       "      <td>0.0</td>\n",
       "      <td>1021590.0</td>\n",
       "      <td>0.0</td>\n",
       "      <td>1010038.0</td>\n",
       "      <td>0.0</td>\n",
       "      <td>1067153</td>\n",
       "    </tr>\n",
       "    <tr>\n",
       "      <th>124</th>\n",
       "      <td>20.5</td>\n",
       "      <td>978562.0</td>\n",
       "      <td>1132481.0</td>\n",
       "      <td>1047903.0</td>\n",
       "      <td>1143552.0</td>\n",
       "      <td>1056019.0</td>\n",
       "      <td>0.0</td>\n",
       "      <td>1021590.0</td>\n",
       "      <td>0.0</td>\n",
       "      <td>1010038.0</td>\n",
       "      <td>0.0</td>\n",
       "      <td>1067153.0</td>\n",
       "      <td>0.0</td>\n",
       "      <td>1042316</td>\n",
       "    </tr>\n",
       "    <tr>\n",
       "      <th>125</th>\n",
       "      <td>20.0</td>\n",
       "      <td>1047903.0</td>\n",
       "      <td>1143552.0</td>\n",
       "      <td>1056019.0</td>\n",
       "      <td>0.0</td>\n",
       "      <td>1021590.0</td>\n",
       "      <td>0.0</td>\n",
       "      <td>1010038.0</td>\n",
       "      <td>0.0</td>\n",
       "      <td>1067153.0</td>\n",
       "      <td>0.0</td>\n",
       "      <td>1042316.0</td>\n",
       "      <td>0.0</td>\n",
       "      <td>1059981</td>\n",
       "    </tr>\n",
       "  </tbody>\n",
       "</table>\n",
       "</div>"
      ],
      "text/plain": [
       "     BusinessDaysInMonth  var1(t-6)  var2(t-6)  var1(t-5)  var2(t-5)  \\\n",
       "120                 27.0   996091.0  1021160.0   928621.0  1005903.0   \n",
       "121                 22.0   928621.0  1005903.0   927348.0  1025539.0   \n",
       "122                 21.0   927348.0  1025539.0   988990.0  1050488.0   \n",
       "123                 27.5   988990.0  1050488.0   978562.0  1132481.0   \n",
       "124                 20.5   978562.0  1132481.0  1047903.0  1143552.0   \n",
       "125                 20.0  1047903.0  1143552.0  1056019.0        0.0   \n",
       "\n",
       "     var1(t-4)  var2(t-4)  var1(t-3)  var2(t-3)  var1(t-2)  var2(t-2)  \\\n",
       "120   927348.0  1025539.0   988990.0  1050488.0   978562.0  1132481.0   \n",
       "121   988990.0  1050488.0   978562.0  1132481.0  1047903.0  1143552.0   \n",
       "122   978562.0  1132481.0  1047903.0  1143552.0  1056019.0        0.0   \n",
       "123  1047903.0  1143552.0  1056019.0        0.0  1021590.0        0.0   \n",
       "124  1056019.0        0.0  1021590.0        0.0  1010038.0        0.0   \n",
       "125  1021590.0        0.0  1010038.0        0.0  1067153.0        0.0   \n",
       "\n",
       "     var1(t-1)  var2(t-1)  var1(t)  \n",
       "120  1047903.0  1143552.0  1056019  \n",
       "121  1056019.0        0.0  1021590  \n",
       "122  1021590.0        0.0  1010038  \n",
       "123  1010038.0        0.0  1067153  \n",
       "124  1067153.0        0.0  1042316  \n",
       "125  1042316.0        0.0  1059981  "
      ]
     },
     "execution_count": 67,
     "metadata": {},
     "output_type": "execute_result"
    }
   ],
   "source": [
    "#test_prediction\n",
    "x_test=pd.DataFrame(test_second,columns=[\"BusinessDaysInMonth\",\"var1(t-6)\",\"var2(t-6)\",\"var1(t-5)\",\"var2(t-5)\",\"var1(t-4)\",\"var2(t-4)\",\"var1(t-3)\",\"var2(t-3)\",\"var1(t-2)\",\"var2(t-2)\",\"var1(t-1)\",\"var2(t-1)\",\"var1(t)\"])\n",
    "x_test"
   ]
  },
  {
   "cell_type": "code",
   "execution_count": 119,
   "metadata": {},
   "outputs": [],
   "source": [
    "#predicting test data\n",
    "prediction_test_1 = model.predict(x_test[0:1])\n",
    "x_test.iloc[1,12]=prediction_test_1\n",
    "x_test.iloc[2,10]=prediction_test_1\n",
    "x_test.iloc[3,8]=prediction_test_1\n",
    "x_test.iloc[4,6]=prediction_test_1\n",
    "x_test.iloc[5,4]=prediction_test_1"
   ]
  },
  {
   "cell_type": "code",
   "execution_count": 69,
   "metadata": {},
   "outputs": [
    {
     "data": {
      "text/plain": [
       "array([ 1057494.83333333])"
      ]
     },
     "execution_count": 69,
     "metadata": {},
     "output_type": "execute_result"
    }
   ],
   "source": [
    "prediction_test_1"
   ]
  },
  {
   "cell_type": "code",
   "execution_count": 120,
   "metadata": {},
   "outputs": [],
   "source": [
    "prediction_test_2 = model.predict(x_test[1:2])\n",
    "x_test.iloc[2,12]=prediction_test_2\n",
    "x_test.iloc[3,10]=prediction_test_2\n",
    "x_test.iloc[4,8]=prediction_test_2\n",
    "x_test.iloc[5,6]=prediction_test_2"
   ]
  },
  {
   "cell_type": "code",
   "execution_count": 121,
   "metadata": {},
   "outputs": [
    {
     "data": {
      "text/plain": [
       "array([ 1050167.28])"
      ]
     },
     "execution_count": 121,
     "metadata": {},
     "output_type": "execute_result"
    }
   ],
   "source": [
    "prediction_test_2"
   ]
  },
  {
   "cell_type": "code",
   "execution_count": 122,
   "metadata": {},
   "outputs": [],
   "source": [
    "prediction_test_3 = model.predict(x_test[2:3])\n",
    "x_test.iloc[3,12]=prediction_test_3\n",
    "x_test.iloc[4,10]=prediction_test_3\n",
    "x_test.iloc[5,8]=prediction_test_3"
   ]
  },
  {
   "cell_type": "code",
   "execution_count": 73,
   "metadata": {},
   "outputs": [
    {
     "data": {
      "text/plain": [
       "array([ 1066717.11764706])"
      ]
     },
     "execution_count": 73,
     "metadata": {},
     "output_type": "execute_result"
    }
   ],
   "source": [
    "prediction_test_3"
   ]
  },
  {
   "cell_type": "code",
   "execution_count": 131,
   "metadata": {},
   "outputs": [],
   "source": [
    "prediction_test_4 = model.predict(x_test[3:4])\n",
    "x_test.iloc[4,12]=prediction_test_4\n",
    "x_test.iloc[5,10]=prediction_test_4"
   ]
  },
  {
   "cell_type": "code",
   "execution_count": 132,
   "metadata": {},
   "outputs": [
    {
     "data": {
      "text/plain": [
       "array([ 1067977.57142857])"
      ]
     },
     "execution_count": 132,
     "metadata": {},
     "output_type": "execute_result"
    }
   ],
   "source": [
    "prediction_test_4"
   ]
  },
  {
   "cell_type": "code",
   "execution_count": 76,
   "metadata": {},
   "outputs": [
    {
     "data": {
      "text/html": [
       "<div>\n",
       "<style>\n",
       "    .dataframe thead tr:only-child th {\n",
       "        text-align: right;\n",
       "    }\n",
       "\n",
       "    .dataframe thead th {\n",
       "        text-align: left;\n",
       "    }\n",
       "\n",
       "    .dataframe tbody tr th {\n",
       "        vertical-align: top;\n",
       "    }\n",
       "</style>\n",
       "<table border=\"1\" class=\"dataframe\">\n",
       "  <thead>\n",
       "    <tr style=\"text-align: right;\">\n",
       "      <th></th>\n",
       "      <th>BusinessDaysInMonth</th>\n",
       "      <th>var1(t-6)</th>\n",
       "      <th>var2(t-6)</th>\n",
       "      <th>var1(t-5)</th>\n",
       "      <th>var2(t-5)</th>\n",
       "      <th>var1(t-4)</th>\n",
       "      <th>var2(t-4)</th>\n",
       "      <th>var1(t-3)</th>\n",
       "      <th>var2(t-3)</th>\n",
       "      <th>var1(t-2)</th>\n",
       "      <th>var2(t-2)</th>\n",
       "      <th>var1(t-1)</th>\n",
       "      <th>var2(t-1)</th>\n",
       "      <th>var1(t)</th>\n",
       "    </tr>\n",
       "  </thead>\n",
       "  <tbody>\n",
       "    <tr>\n",
       "      <th>120</th>\n",
       "      <td>27.0</td>\n",
       "      <td>996091.0</td>\n",
       "      <td>1021160.0</td>\n",
       "      <td>928621.0</td>\n",
       "      <td>1.005903e+06</td>\n",
       "      <td>927348.0</td>\n",
       "      <td>1.025539e+06</td>\n",
       "      <td>988990.0</td>\n",
       "      <td>1.050488e+06</td>\n",
       "      <td>978562.0</td>\n",
       "      <td>1.132481e+06</td>\n",
       "      <td>1047903.0</td>\n",
       "      <td>1.143552e+06</td>\n",
       "      <td>1056019</td>\n",
       "    </tr>\n",
       "    <tr>\n",
       "      <th>121</th>\n",
       "      <td>22.0</td>\n",
       "      <td>928621.0</td>\n",
       "      <td>1005903.0</td>\n",
       "      <td>927348.0</td>\n",
       "      <td>1.025539e+06</td>\n",
       "      <td>988990.0</td>\n",
       "      <td>1.050488e+06</td>\n",
       "      <td>978562.0</td>\n",
       "      <td>1.132481e+06</td>\n",
       "      <td>1047903.0</td>\n",
       "      <td>1.143552e+06</td>\n",
       "      <td>1056019.0</td>\n",
       "      <td>1.057495e+06</td>\n",
       "      <td>1021590</td>\n",
       "    </tr>\n",
       "    <tr>\n",
       "      <th>122</th>\n",
       "      <td>21.0</td>\n",
       "      <td>927348.0</td>\n",
       "      <td>1025539.0</td>\n",
       "      <td>988990.0</td>\n",
       "      <td>1.050488e+06</td>\n",
       "      <td>978562.0</td>\n",
       "      <td>1.132481e+06</td>\n",
       "      <td>1047903.0</td>\n",
       "      <td>1.143552e+06</td>\n",
       "      <td>1056019.0</td>\n",
       "      <td>1.057495e+06</td>\n",
       "      <td>1021590.0</td>\n",
       "      <td>1.050167e+06</td>\n",
       "      <td>1010038</td>\n",
       "    </tr>\n",
       "    <tr>\n",
       "      <th>123</th>\n",
       "      <td>27.5</td>\n",
       "      <td>988990.0</td>\n",
       "      <td>1050488.0</td>\n",
       "      <td>978562.0</td>\n",
       "      <td>1.132481e+06</td>\n",
       "      <td>1047903.0</td>\n",
       "      <td>1.143552e+06</td>\n",
       "      <td>1056019.0</td>\n",
       "      <td>1.057495e+06</td>\n",
       "      <td>1021590.0</td>\n",
       "      <td>1.050167e+06</td>\n",
       "      <td>1010038.0</td>\n",
       "      <td>1.066717e+06</td>\n",
       "      <td>1067153</td>\n",
       "    </tr>\n",
       "    <tr>\n",
       "      <th>124</th>\n",
       "      <td>20.5</td>\n",
       "      <td>978562.0</td>\n",
       "      <td>1132481.0</td>\n",
       "      <td>1047903.0</td>\n",
       "      <td>1.143552e+06</td>\n",
       "      <td>1056019.0</td>\n",
       "      <td>1.057495e+06</td>\n",
       "      <td>1021590.0</td>\n",
       "      <td>1.050167e+06</td>\n",
       "      <td>1010038.0</td>\n",
       "      <td>1.066717e+06</td>\n",
       "      <td>1067153.0</td>\n",
       "      <td>1.067978e+06</td>\n",
       "      <td>1042316</td>\n",
       "    </tr>\n",
       "    <tr>\n",
       "      <th>125</th>\n",
       "      <td>20.0</td>\n",
       "      <td>1047903.0</td>\n",
       "      <td>1143552.0</td>\n",
       "      <td>1056019.0</td>\n",
       "      <td>1.057495e+06</td>\n",
       "      <td>1021590.0</td>\n",
       "      <td>1.050167e+06</td>\n",
       "      <td>1010038.0</td>\n",
       "      <td>1.066717e+06</td>\n",
       "      <td>1067153.0</td>\n",
       "      <td>1.067978e+06</td>\n",
       "      <td>1042316.0</td>\n",
       "      <td>1.083304e+06</td>\n",
       "      <td>1059981</td>\n",
       "    </tr>\n",
       "  </tbody>\n",
       "</table>\n",
       "</div>"
      ],
      "text/plain": [
       "     BusinessDaysInMonth  var1(t-6)  var2(t-6)  var1(t-5)     var2(t-5)  \\\n",
       "120                 27.0   996091.0  1021160.0   928621.0  1.005903e+06   \n",
       "121                 22.0   928621.0  1005903.0   927348.0  1.025539e+06   \n",
       "122                 21.0   927348.0  1025539.0   988990.0  1.050488e+06   \n",
       "123                 27.5   988990.0  1050488.0   978562.0  1.132481e+06   \n",
       "124                 20.5   978562.0  1132481.0  1047903.0  1.143552e+06   \n",
       "125                 20.0  1047903.0  1143552.0  1056019.0  1.057495e+06   \n",
       "\n",
       "     var1(t-4)     var2(t-4)  var1(t-3)     var2(t-3)  var1(t-2)  \\\n",
       "120   927348.0  1.025539e+06   988990.0  1.050488e+06   978562.0   \n",
       "121   988990.0  1.050488e+06   978562.0  1.132481e+06  1047903.0   \n",
       "122   978562.0  1.132481e+06  1047903.0  1.143552e+06  1056019.0   \n",
       "123  1047903.0  1.143552e+06  1056019.0  1.057495e+06  1021590.0   \n",
       "124  1056019.0  1.057495e+06  1021590.0  1.050167e+06  1010038.0   \n",
       "125  1021590.0  1.050167e+06  1010038.0  1.066717e+06  1067153.0   \n",
       "\n",
       "        var2(t-2)  var1(t-1)     var2(t-1)  var1(t)  \n",
       "120  1.132481e+06  1047903.0  1.143552e+06  1056019  \n",
       "121  1.143552e+06  1056019.0  1.057495e+06  1021590  \n",
       "122  1.057495e+06  1021590.0  1.050167e+06  1010038  \n",
       "123  1.050167e+06  1010038.0  1.066717e+06  1067153  \n",
       "124  1.066717e+06  1067153.0  1.067978e+06  1042316  \n",
       "125  1.067978e+06  1042316.0  1.083304e+06  1059981  "
      ]
     },
     "execution_count": 76,
     "metadata": {},
     "output_type": "execute_result"
    }
   ],
   "source": [
    "prediction_test_5 = model.predict(x_test[4:5])\n",
    "x_test.iloc[5,12]=prediction_test_5\n",
    "x_test"
   ]
  },
  {
   "cell_type": "code",
   "execution_count": 77,
   "metadata": {},
   "outputs": [
    {
     "data": {
      "text/plain": [
       "array([ 1083303.58823529])"
      ]
     },
     "execution_count": 77,
     "metadata": {},
     "output_type": "execute_result"
    }
   ],
   "source": [
    "prediction_test_5"
   ]
  },
  {
   "cell_type": "code",
   "execution_count": 78,
   "metadata": {},
   "outputs": [
    {
     "data": {
      "text/plain": [
       "array([ 1073877.66666667])"
      ]
     },
     "execution_count": 78,
     "metadata": {},
     "output_type": "execute_result"
    }
   ],
   "source": [
    "prediction_test_6 = model.predict(x_test[5:6])\n",
    "prediction_test_6"
   ]
  },
  {
   "cell_type": "code",
   "execution_count": 79,
   "metadata": {
    "collapsed": true
   },
   "outputs": [],
   "source": [
    "prediction_test_1=DataFrame(prediction_test_1)\n",
    "prediction_test_2=DataFrame(prediction_test_2)\n",
    "prediction_test_3=DataFrame(prediction_test_3)\n",
    "prediction_test_4=DataFrame(prediction_test_4)\n",
    "prediction_test_5=DataFrame(prediction_test_5)\n",
    "prediction_test_6=DataFrame(prediction_test_6)"
   ]
  },
  {
   "cell_type": "code",
   "execution_count": 80,
   "metadata": {
    "collapsed": true
   },
   "outputs": [],
   "source": [
    "prediction_final = [prediction_test_1,prediction_test_2,prediction_test_3,prediction_test_4,prediction_test_5,prediction_test_6]\n",
    "prediction_final = pd.concat(prediction_final,axis=0)"
   ]
  },
  {
   "cell_type": "code",
   "execution_count": 81,
   "metadata": {
    "collapsed": true
   },
   "outputs": [],
   "source": [
    "prediction_final.reset_index(drop=True,inplace=True)"
   ]
  },
  {
   "cell_type": "code",
   "execution_count": 82,
   "metadata": {
    "collapsed": true
   },
   "outputs": [],
   "source": [
    "submission_data[\"IssuesInMonth\"]=prediction_final"
   ]
  },
  {
   "cell_type": "code",
   "execution_count": 130,
   "metadata": {
    "collapsed": true
   },
   "outputs": [],
   "source": [
    "submission_data.to_csv('submission_data.csv')"
   ]
  },
  {
   "cell_type": "code",
   "execution_count": 118,
   "metadata": {},
   "outputs": [
    {
     "data": {
      "text/html": [
       "<div>\n",
       "<style>\n",
       "    .dataframe thead tr:only-child th {\n",
       "        text-align: right;\n",
       "    }\n",
       "\n",
       "    .dataframe thead th {\n",
       "        text-align: left;\n",
       "    }\n",
       "\n",
       "    .dataframe tbody tr th {\n",
       "        vertical-align: top;\n",
       "    }\n",
       "</style>\n",
       "<table border=\"1\" class=\"dataframe\">\n",
       "  <thead>\n",
       "    <tr style=\"text-align: right;\">\n",
       "      <th></th>\n",
       "      <th>Month</th>\n",
       "      <th>IssuesInMonth</th>\n",
       "    </tr>\n",
       "  </thead>\n",
       "  <tbody>\n",
       "    <tr>\n",
       "      <th>0</th>\n",
       "      <td>7/31/2017</td>\n",
       "      <td>1.057495e+06</td>\n",
       "    </tr>\n",
       "    <tr>\n",
       "      <th>1</th>\n",
       "      <td>8/31/2017</td>\n",
       "      <td>1.050167e+06</td>\n",
       "    </tr>\n",
       "    <tr>\n",
       "      <th>2</th>\n",
       "      <td>9/30/2017</td>\n",
       "      <td>1.066717e+06</td>\n",
       "    </tr>\n",
       "    <tr>\n",
       "      <th>3</th>\n",
       "      <td>10/31/2017</td>\n",
       "      <td>1.067978e+06</td>\n",
       "    </tr>\n",
       "    <tr>\n",
       "      <th>4</th>\n",
       "      <td>11/30/2017</td>\n",
       "      <td>1.083304e+06</td>\n",
       "    </tr>\n",
       "    <tr>\n",
       "      <th>5</th>\n",
       "      <td>12/31/2017</td>\n",
       "      <td>1.073878e+06</td>\n",
       "    </tr>\n",
       "  </tbody>\n",
       "</table>\n",
       "</div>"
      ],
      "text/plain": [
       "        Month  IssuesInMonth\n",
       "0   7/31/2017   1.057495e+06\n",
       "1   8/31/2017   1.050167e+06\n",
       "2   9/30/2017   1.066717e+06\n",
       "3  10/31/2017   1.067978e+06\n",
       "4  11/30/2017   1.083304e+06\n",
       "5  12/31/2017   1.073878e+06"
      ]
     },
     "execution_count": 118,
     "metadata": {},
     "output_type": "execute_result"
    }
   ],
   "source": [
    "submission_data"
   ]
  },
  {
   "cell_type": "markdown",
   "metadata": {
    "collapsed": true
   },
   "source": [
    "ploting predicted test data"
   ]
  },
  {
   "cell_type": "code",
   "execution_count": 133,
   "metadata": {},
   "outputs": [
    {
     "data": {
      "image/png": "[encoded data removed]",
      "text/plain": [
       "<matplotlib.figure.Figure at 0xf879dee588>"
      ]
     },
     "metadata": {},
     "output_type": "display_data"
    }
   ],
   "source": [
    "#plotting predicted value\n",
    "predicted_test=submission_data.iloc[:,1:2]\n",
    "pyplot.plot(predicted_test,color='red')\n",
    "pyplot.show()"
   ]
  }
 ],
 "metadata": {
  "kernelspec": {
   "display_name": "Python 3",
   "language": "python",
   "name": "python3"
  },
  "language_info": {
   "codemirror_mode": {
    "name": "ipython",
    "version": 3
   },
   "file_extension": ".py",
   "mimetype": "text/x-python",
   "name": "python",
   "nbconvert_exporter": "python",
   "pygments_lexer": "ipython3",
   "version": "3.6.3"
  }
 },
 "nbformat": 4,
 "nbformat_minor": 2
}
